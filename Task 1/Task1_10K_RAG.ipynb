{
 "cells": [
  {
   "cell_type": "markdown",
   "id": "6b7df487",
   "metadata": {},
   "source": [
    "# Task 1: 10-K Retrieval QA with RAG Pipeline\n",
    "\n",
    "This notebook demonstrates a Retrieval-Augmented Generation (RAG) pipeline to answer questions about the latest SEC 10-K/10-Q filings for ten companies. It covers data ingestion, chunking, embedding, vector storage, and RetrievalQA using Gemini LLM. Answers are citation-aware and concise."
   ]
  },
  {
   "cell_type": "markdown",
   "id": "0ce2d4d6",
   "metadata": {},
   "source": [
    "## 1. Imports and Random Seed Setup\n",
    "All random seeds are fixed for reproducibility. Only public packages are used."
   ]
  },
  {
   "cell_type": "code",
   "execution_count": null,
   "id": "ec3f52a5",
   "metadata": {},
   "outputs": [],
   "source": [
    "import os\n",
    "import random\n",
    "import numpy as np\n",
    "import torch\n",
    "import logging\n",
    "from tqdm import tqdm\n",
    "# Set random seeds\n",
    "random.seed(42)\n",
    "np.random.seed(42)\n",
    "torch.manual_seed(42)\n",
    "if torch.cuda.is_available():\n",
    "    torch.cuda.manual_seed_all(42)\n",
    "logging.basicConfig(level=logging.INFO, format='%(asctime)s - %(levelname)s - %(message)s')"
   ]
  },
  {
   "cell_type": "markdown",
   "id": "1496ded6",
   "metadata": {},
   "source": [
    "## 2. Data Ingestion: Download Latest 10-K/10-Q Filings\n",
    "We use `sec_downloader` to fetch the latest filings for 10 companies."
   ]
  },
  {
   "cell_type": "code",
   "execution_count": null,
   "id": "65122a2f",
   "metadata": {},
   "outputs": [],
   "source": [
    "from sec_downloader import Downloader\n",
    "companies = [\"AAPL\", \"MSFT\", \"GOOGL\", \"AMZN\", \"TSLA\", \"META\", \"NVDA\", \"BRK-B\", \"JNJ\", \"V\"]\n",
    "output_dir = \"./data/10k_filings\"\n",
    "os.makedirs(output_dir, exist_ok=True)\n",
    "downloader = Downloader(output_dir, email_address=\"ra.kuppasundarar@ufl.edu\")\n",
    "for ticker in companies:\n",
    "    logging.info(f'Downloading 10-Q for {ticker}')\n",
    "    try:\n",
    "        metadatas = downloader.get_filing_metadatas(ticker)\n",
    "        ten_qs = [m for m in metadatas if getattr(m, 'form_type', '').upper() == '10-Q']\n",
    "        if not ten_qs:\n",
    "            logging.error(f'No 10-Q filings found for {ticker}')\n",
    "            continue\n",
    "        ten_qs.sort(key=lambda m: getattr(m, 'filing_date', ''), reverse=True)\n",
    "        accession_number = ten_qs[0].accession_number\n",
    "        filing_url = ten_qs[0].primary_doc_url\n",
    "        import requests\n",
    "        headers = {\"User-Agent\": \"ra.kuppasundarar@ufl.edu\", \"Accept-Encoding\": \"gzip, deflate\", \"Host\": \"www.sec.gov\"}\n",
    "        filing_response = requests.get(filing_url, headers=headers)\n",
    "        if filing_response.status_code == 200:\n",
    "            ticker_dir = os.path.join(output_dir, ticker)\n",
    "            os.makedirs(ticker_dir, exist_ok=True)\n",
    "            file_path = os.path.join(ticker_dir, f\"{accession_number}.txt\")\n",
    "            with open(file_path, 'w', encoding='utf-8') as f:\n",
    "                f.write(filing_response.text)\n",
    "            logging.info(f'Downloaded and saved filing for {ticker} to {file_path}')\n",
    "        else:\n",
    "            logging.error(f'Failed to download filing for {ticker} from {filing_url} (status {filing_response.status_code})')\n",
    "    except Exception as e:\n",
    "        logging.error(f'Failed to download 10-Q for {ticker}: {e}')"
   ]
  },
  {
   "cell_type": "markdown",
   "id": "7f221ee9",
   "metadata": {},
   "source": [
    "## 3. Chunking Filings\n",
    "We use `RecursiveCharacterTextSplitter` for chunking, with chunk size 2000 and overlap 200."
   ]
  },
  {
   "cell_type": "code",
   "execution_count": null,
   "id": "e7da7fae",
   "metadata": {},
   "outputs": [],
   "source": [
    "from langchain_community.docstore.document import Document\n",
    "from langchain.text_splitter import RecursiveCharacterTextSplitter\n",
    "import glob\n",
    "documents = []\n",
    "for file_path in glob.glob(os.path.join(output_dir, \"**/*.txt\"), recursive=True):\n",
    "    with open(file_path, 'r', encoding='utf-8', errors='ignore') as f:\n",
    "        text = f.read()\n",
    "    doc = Document(page_content=text, metadata={'source': file_path})\n",
    "    documents.append(doc)\n",
    "text_splitter = RecursiveCharacterTextSplitter(chunk_size=2000, chunk_overlap=200)\n",
    "chunks = text_splitter.split_documents(documents)\n",
    "logging.info(f'Number of document chunks: {len(chunks)}')"
   ]
  },
  {
   "cell_type": "markdown",
   "id": "f6f12ebc",
   "metadata": {},
   "source": [
    "## 4. Embedding and Vector Store Creation\n",
    "We use `sentence-transformers/all-mpnet-base-v2` and FAISS for vector storage."
   ]
  },
  {
   "cell_type": "code",
   "execution_count": null,
   "id": "db62fa08",
   "metadata": {},
   "outputs": [],
   "source": [
    "from langchain_huggingface import HuggingFaceEmbeddings\n",
    "from langchain_community.vectorstores import FAISS\n",
    "embeddings = HuggingFaceEmbeddings(\n",
    "    model_name=\"sentence-transformers/all-mpnet-base-v2\",\n",
    "    model_kwargs={\"device\": \"cuda\" if torch.cuda.is_available() else \"cpu\"}\n",
    ")\n",
    "faiss_dir = \"./data/faiss_index_10k\"\n",
    "os.makedirs(faiss_dir, exist_ok=True)\n",
    "vector_store = FAISS.from_documents(chunks, embeddings)\n",
    "vector_store.save_local(os.path.join(faiss_dir, \"final_index.faiss\"))\n",
    "logging.info(f'Final FAISS vector store saved to {faiss_dir}')"
   ]
  },
  {
   "cell_type": "markdown",
   "id": "2fa8e21f",
   "metadata": {},
   "source": [
    "## 5. RetrievalQA Chain with Gemini LLM\n",
    "We use Gemini LLM for answer generation. Answers are citation-aware and concise."
   ]
  },
  {
   "cell_type": "code",
   "execution_count": null,
   "id": "0c3a5e6c",
   "metadata": {},
   "outputs": [],
   "source": [
    "from langchain.chains import RetrievalQA\n",
    "from langchain_google_genai import ChatGoogleGenerativeAI\n",
    "import toml\n",
    "SECRETS_PATH = 'config/secrets.toml'\n",
    "secrets = toml.load(SECRETS_PATH)\n",
    "gemini_api_key = secrets.get('GEMINI_API_KEY')\n",
    "os.environ['GEMINI_API_KEY'] = gemini_api_key\n",
    "llm = ChatGoogleGenerativeAI(model='gemini-2.0-flash', google_api_key=gemini_api_key)\n",
    "vector_store = FAISS.load_local(os.path.join(faiss_dir, 'final_index.faiss'), embeddings, allow_dangerous_deserialization=True)\n",
    "qa_chain = RetrievalQA.from_chain_type(\n",
    "    llm=llm,\n",
    "    retriever=vector_store.as_retriever(),\n",
    "    return_source_documents=True\n",
    ")"
   ]
  },
  {
   "cell_type": "markdown",
   "id": "6b81d808",
   "metadata": {},
   "source": [
    "## 6. Demo Q&A: Company Questions with Citations\n",
    "For each company, we answer two demo questions and cite the source."
   ]
  },
  {
   "cell_type": "code",
   "execution_count": null,
   "id": "8e0021ac",
   "metadata": {},
   "outputs": [],
   "source": [
    "COMPANIES = [\"AAPL\", \"MSFT\", \"GOOGL\", \"AMZN\", \"TSLA\", \"META\", \"NVDA\", \"BRK-B\", \"JNJ\", \"V\"]\n",
    "TICKER_TO_NAME = {\n",
    "    \"AAPL\": \"Apple\",\n",
    "    \"MSFT\": \"Microsoft\",\n",
    "    \"GOOGL\": \"Google\",\n",
    "    \"AMZN\": \"Amazon\",\n",
    "    \"TSLA\": \"Tesla\",\n",
    "    \"META\": \"Meta\",\n",
    "    \"NVDA\": \"Nvidia\",\n",
    "    \"BRK-B\": \"Berkshire Hathaway\",\n",
    "    \"JNJ\": \"Johnson & Johnson\",\n",
    "    \"V\": \"Visa\"\n",
    "}\n",
    "DEMO_QUESTIONS = [\n",
    "    'What does [Company] list as its three primary sources of revenue?',\n",
    "    'Summarize the biggest risk [Company] cites about supply chain concentration.'\n",
    "]\n",
    "def get_company_retriever(vector_store, company):\n",
    "    def company_filter(metadata):\n",
    "        src = metadata.get('source', '').replace('\\\\', '/').replace('\\', '/')\n",
    "        return f'/{company}/' in src\n",
    "    return vector_store.as_retriever(search_kwargs={'filter': company_filter})\n",
    "def format_answer(answer, sources):\n",
    "    output = f'A: {answer}\\n'\n",
    "    if sources:\n",
    "        seen = set()\n",
    "        output += 'Citations:\\n'\n",
    "        for doc in sources:\n",
    "            src = doc.metadata.get('source', 'N/A')\n",
    "            if src not in seen:\n",
    "                output += f'  [Source]: {src}\\n'\n",
    "                seen.add(src)\n",
    "    else:\n",
    "        output += '[No source documents retrieved.]\\n'\n",
    "    return output\n",
    "for company in COMPANIES:\n",
    "    display_name = TICKER_TO_NAME[company]\n",
    "    print(f'\\n=== {company} ===')\n",
    "    for question in DEMO_QUESTIONS:\n",
    "        q = question.replace('[Company]', display_name)\n",
    "        retriever = get_company_retriever(vector_store, company)\n",
    "        qa_chain.retriever = retriever\n",
    "        result = qa_chain.invoke({'query': q})\n",
    "        answer = result.get('result', '[No answer returned]')\n",
    "        sources = result.get('source_documents', [])\n",
    "        print(f'Q: {q}')\n",
    "        print(format_answer(answer, sources))"
   ]
  },
  {
   "cell_type": "markdown",
   "id": "72558b86",
   "metadata": {},
   "source": [
    "## 7. Reflection\n",
    "- Present in separate markdown file Task 1/reflection.md"
   ]
  }
 ],
 "metadata": {
  "language_info": {
   "name": "python"
  }
 },
 "nbformat": 4,
 "nbformat_minor": 5
}
